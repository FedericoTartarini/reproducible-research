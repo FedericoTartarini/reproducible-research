{
 "cells": [
  {
   "cell_type": "code",
   "execution_count": 40,
   "metadata": {
    "pycharm": {
     "name": "#%%\n"
    }
   },
   "outputs": [
    {
     "data": {
      "text/plain": "<IPython.core.display.Markdown object>",
      "text/markdown": "Hello World!"
     },
     "metadata": {},
     "output_type": "display_data"
    },
    {
     "name": "stdout",
     "output_type": "stream",
     "text": [
      "Hello World!\n"
     ]
    },
    {
     "data": {
      "text/plain": "<Figure size 518.4x360 with 1 Axes>",
      "image/png": "[encoded data removed]"
     },
     "metadata": {
      "needs_background": "light"
     },
     "output_type": "display_data"
    }
   ],
   "source": [
    "%run main.py"
   ]
  },
  {
   "cell_type": "code",
   "execution_count": 41,
   "metadata": {},
   "outputs": [
    {
     "data": {
      "text/plain": "<IPython.core.display.Markdown object>",
      "text/markdown": "Hello World!"
     },
     "metadata": {},
     "output_type": "display_data"
    },
    {
     "name": "stdout",
     "output_type": "stream",
     "text": [
      "Hello World!\n",
      "                                  thermal   met  userid experimentid\n",
      "time                                                                \n",
      "2020-04-10 10:50:17.314000+08:00       10   9.0  dorn05         dorn\n",
      "2020-04-10 10:50:28.171000+08:00       11   9.0  dorn08         dorn\n",
      "2020-04-10 10:57:17.454000+08:00       10   9.0  dorn02         dorn\n",
      "2020-04-10 11:16:34.270000+08:00       10   9.0  dorn02         dorn\n",
      "2020-04-10 12:05:00.493000+08:00       10  10.0  dorn02         dorn\n"
     ]
    },
    {
     "data": {
      "text/plain": "<Figure size 518.4x360 with 1 Axes>",
      "image/png": "[encoded data removed]"
     },
     "metadata": {
      "needs_background": "light"
     },
     "output_type": "display_data"
    }
   ],
   "source": [
    "# %load main.py\n",
    "import matplotlib.pyplot as plt\n",
    "import pandas as pd\n",
    "from influxdb import InfluxDBClient\n",
    "import seaborn as sns\n",
    "import matplotlib\n",
    "import os\n",
    "from IPython.display import display, Markdown\n",
    "display(Markdown(\"Hello World!\"))\n",
    "print(\"Hello World!\")\n",
    "\n",
    "# matplotlib.use(\"pgf\")\n",
    "# matplotlib.rcParams.update({\n",
    "#     \"pgf.texsystem\": \"pdflatex\",\n",
    "#     'font.family': 'serif',\n",
    "#     'text.usetex': True,\n",
    "#     'pgf.rcfonts': False,\n",
    "# })\n",
    "\n",
    "def influx_to_df(query='SELECT * FROM \"coziePublic\".\"autogen\".\"fitbit\" where userid=\\'test\\''):\n",
    "    import secret\n",
    "\n",
    "    influx_cl = InfluxDBClient(host=secret.influx_db_host, port=8086,\n",
    "                               username=\"heroku\", password=secret.influx_db_psw,\n",
    "                               database=\"spaces\", ssl=True, verify_ssl=True)\n",
    "\n",
    "    try:\n",
    "        result = influx_cl.query(query)\n",
    "        df = pd.DataFrame(result[result.keys()[0]])\n",
    "\n",
    "        df.index = pd.to_datetime(df.time)\n",
    "        df.index = df.index.tz_convert(timeZone)\n",
    "        return df.drop(columns=['time'])\n",
    "    except IndexError:\n",
    "        return pd.DataFrame()\n",
    "\n",
    "\n",
    "experiment_id = 'dorn'\n",
    "timeZone = 'Asia/Singapore'\n",
    "start_date = pd.Timestamp(2020, 4, 10).value\n",
    "\n",
    "try:\n",
    "    df_cozie = influx_to_df(f'SELECT thermal, met, userid, experimentid '\n",
    "                            f'FROM \"coziePublic\".\"autogen\".\"fitbit\" '\n",
    "                            f'where time > {start_date} '\n",
    "                            f'and \"experimentid\" = \\'{experiment_id}\\' '\n",
    "                            f'and \"userid\" != \\'{\"dorn16\"}\\'')\n",
    "    df_cozie.to_csv(\"df_cozie.csv\", index=False)\n",
    "except:\n",
    "    df_cozie.read_csv(\"df_cozie.csv\", index=False)\n",
    "\n",
    "print(df_cozie.head())\n",
    "\n",
    "df_group_id = df_cozie.groupby(['userid'])['thermal'].count().reset_index()\n",
    "\n",
    "'''```python\n",
    "print \"Hello World\"\n",
    "```'''\n",
    "\n",
    "fig = plt.figure(figsize=(7.2, 5))\n",
    "sns.barplot(y=\"userid\", x=\"thermal\", data=df_group_id)\n",
    "plt.show()\n",
    "\n",
    "fig_dir = os.path.join(os.getcwd(), 'manuscript', 'src', 'figures')\n",
    "\n",
    "# fig = plt.figure(figsize=(6, 4))\n",
    "# sns.barplot(y=\"userid\", x=\"thermal\", data=df_group_id)\n",
    "# # plt.savefig(os.path.join(fig_dir, 'bar-plot.pgf'))\n",
    "# plt.savefig(os.path.join(fig_dir, 'bar-plot.png', dpi=300))\n"
   ]
  },
  {
   "cell_type": "code",
   "execution_count": null,
   "outputs": [],
   "source": [],
   "metadata": {
    "collapsed": false,
    "pycharm": {
     "name": "#%%\n"
    }
   }
  },
  {
   "cell_type": "code",
   "execution_count": null,
   "metadata": {},
   "outputs": [],
   "source": []
  }
 ],
 "metadata": {
  "kernelspec": {
   "display_name": "Python 3",
   "language": "python",
   "name": "python3"
  },
  "language_info": {
   "codemirror_mode": {
    "name": "ipython",
    "version": 3
   },
   "file_extension": ".py",
   "mimetype": "text/x-python",
   "name": "python",
   "nbconvert_exporter": "python",
   "pygments_lexer": "ipython3",
   "version": "3.7.4"
  }
 },
 "nbformat": 4,
 "nbformat_minor": 1
}